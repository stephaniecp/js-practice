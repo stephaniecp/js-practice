{
 "cells": [
  {
   "attachments": {},
   "cell_type": "markdown",
   "metadata": {},
   "source": [
    "Things to do before running this: \n",
    "* Install Anaconda\n",
    "* Select the \"base(Python [version])\" from Anaconda in VSC (top right)"
   ]
  },
  {
   "cell_type": "code",
   "execution_count": 16,
   "metadata": {},
   "outputs": [],
   "source": [
    "# List of imports necessary for this project (needs to run before running the SQL queries below, it can be done individually or all at once with the \"Run All\" button)\n",
    "\n",
    "import pandas as pd # Pandas is a data analysis library to help with data visualisation\n",
    "from pathlib import Path\n",
    "import sqlite3\n",
    "from IPython.display import display, HTML"
   ]
  },
  {
   "cell_type": "code",
   "execution_count": 17,
   "metadata": {},
   "outputs": [
    {
     "name": "stdout",
     "output_type": "stream",
     "text": [
      "Dataframe of loaded data:\n"
     ]
    },
    {
     "data": {
      "text/html": [
       "<div>\n",
       "<style scoped>\n",
       "    .dataframe tbody tr th:only-of-type {\n",
       "        vertical-align: middle;\n",
       "    }\n",
       "\n",
       "    .dataframe tbody tr th {\n",
       "        vertical-align: top;\n",
       "    }\n",
       "\n",
       "    .dataframe thead th {\n",
       "        text-align: right;\n",
       "    }\n",
       "</style>\n",
       "<table border=\"1\" class=\"dataframe\">\n",
       "  <thead>\n",
       "    <tr style=\"text-align: right;\">\n",
       "      <th></th>\n",
       "      <th>exactAge</th>\n",
       "      <th>male_deathProbability</th>\n",
       "      <th>male_numberOfLives</th>\n",
       "      <th>male_lifeExpectancy</th>\n",
       "      <th>female_deathProbability</th>\n",
       "      <th>female_numberOfLives</th>\n",
       "      <th>female_lifeExpectancy</th>\n",
       "    </tr>\n",
       "  </thead>\n",
       "  <tbody>\n",
       "    <tr>\n",
       "      <th>0</th>\n",
       "      <td>0</td>\n",
       "      <td>0.005837</td>\n",
       "      <td>100,000</td>\n",
       "      <td>74.12</td>\n",
       "      <td>0.004907</td>\n",
       "      <td>100,000</td>\n",
       "      <td>79.78</td>\n",
       "    </tr>\n",
       "    <tr>\n",
       "      <th>1</th>\n",
       "      <td>1</td>\n",
       "      <td>0.000410</td>\n",
       "      <td>99,416</td>\n",
       "      <td>73.55</td>\n",
       "      <td>0.000316</td>\n",
       "      <td>99,509</td>\n",
       "      <td>79.17</td>\n",
       "    </tr>\n",
       "    <tr>\n",
       "      <th>2</th>\n",
       "      <td>2</td>\n",
       "      <td>0.000254</td>\n",
       "      <td>99,376</td>\n",
       "      <td>72.58</td>\n",
       "      <td>0.000196</td>\n",
       "      <td>99,478</td>\n",
       "      <td>78.19</td>\n",
       "    </tr>\n",
       "    <tr>\n",
       "      <th>3</th>\n",
       "      <td>3</td>\n",
       "      <td>0.000207</td>\n",
       "      <td>99,350</td>\n",
       "      <td>71.60</td>\n",
       "      <td>0.000160</td>\n",
       "      <td>99,458</td>\n",
       "      <td>77.21</td>\n",
       "    </tr>\n",
       "    <tr>\n",
       "      <th>4</th>\n",
       "      <td>4</td>\n",
       "      <td>0.000167</td>\n",
       "      <td>99,330</td>\n",
       "      <td>70.62</td>\n",
       "      <td>0.000129</td>\n",
       "      <td>99,442</td>\n",
       "      <td>76.22</td>\n",
       "    </tr>\n",
       "    <tr>\n",
       "      <th>...</th>\n",
       "      <td>...</td>\n",
       "      <td>...</td>\n",
       "      <td>...</td>\n",
       "      <td>...</td>\n",
       "      <td>...</td>\n",
       "      <td>...</td>\n",
       "      <td>...</td>\n",
       "    </tr>\n",
       "    <tr>\n",
       "      <th>115</th>\n",
       "      <td>115</td>\n",
       "      <td>0.800319</td>\n",
       "      <td>0</td>\n",
       "      <td>0.74</td>\n",
       "      <td>0.799516</td>\n",
       "      <td>0</td>\n",
       "      <td>0.74</td>\n",
       "    </tr>\n",
       "    <tr>\n",
       "      <th>116</th>\n",
       "      <td>116</td>\n",
       "      <td>0.840335</td>\n",
       "      <td>0</td>\n",
       "      <td>0.68</td>\n",
       "      <td>0.840335</td>\n",
       "      <td>0</td>\n",
       "      <td>0.68</td>\n",
       "    </tr>\n",
       "    <tr>\n",
       "      <th>117</th>\n",
       "      <td>117</td>\n",
       "      <td>0.882352</td>\n",
       "      <td>0</td>\n",
       "      <td>0.63</td>\n",
       "      <td>0.882352</td>\n",
       "      <td>0</td>\n",
       "      <td>0.63</td>\n",
       "    </tr>\n",
       "    <tr>\n",
       "      <th>118</th>\n",
       "      <td>118</td>\n",
       "      <td>0.926469</td>\n",
       "      <td>0</td>\n",
       "      <td>0.58</td>\n",
       "      <td>0.926469</td>\n",
       "      <td>0</td>\n",
       "      <td>0.58</td>\n",
       "    </tr>\n",
       "    <tr>\n",
       "      <th>119</th>\n",
       "      <td>119</td>\n",
       "      <td>0.972793</td>\n",
       "      <td>0</td>\n",
       "      <td>0.53</td>\n",
       "      <td>0.972793</td>\n",
       "      <td>0</td>\n",
       "      <td>0.53</td>\n",
       "    </tr>\n",
       "  </tbody>\n",
       "</table>\n",
       "<p>120 rows × 7 columns</p>\n",
       "</div>"
      ],
      "text/plain": [
       "     exactAge  male_deathProbability male_numberOfLives  male_lifeExpectancy  \\\n",
       "0           0               0.005837            100,000                74.12   \n",
       "1           1               0.000410             99,416                73.55   \n",
       "2           2               0.000254             99,376                72.58   \n",
       "3           3               0.000207             99,350                71.60   \n",
       "4           4               0.000167             99,330                70.62   \n",
       "..        ...                    ...                ...                  ...   \n",
       "115       115               0.800319                  0                 0.74   \n",
       "116       116               0.840335                  0                 0.68   \n",
       "117       117               0.882352                  0                 0.63   \n",
       "118       118               0.926469                  0                 0.58   \n",
       "119       119               0.972793                  0                 0.53   \n",
       "\n",
       "     female_deathProbability female_numberOfLives  female_lifeExpectancy  \n",
       "0                   0.004907              100,000                  79.78  \n",
       "1                   0.000316               99,509                  79.17  \n",
       "2                   0.000196               99,478                  78.19  \n",
       "3                   0.000160               99,458                  77.21  \n",
       "4                   0.000129               99,442                  76.22  \n",
       "..                       ...                  ...                    ...  \n",
       "115                 0.799516                    0                   0.74  \n",
       "116                 0.840335                    0                   0.68  \n",
       "117                 0.882352                    0                   0.63  \n",
       "118                 0.926469                    0                   0.58  \n",
       "119                 0.972793                    0                   0.53  \n",
       "\n",
       "[120 rows x 7 columns]"
      ]
     },
     "metadata": {},
     "output_type": "display_data"
    },
    {
     "name": "stdout",
     "output_type": "stream",
     "text": [
      "Data loaded into sql\n"
     ]
    }
   ],
   "source": [
    "dbPath = Path('../data/deathData.db')\n",
    "\n",
    "#Make sure it exists\n",
    "if (not Path.is_file(dbPath)):\n",
    "    dbPath.touch()\n",
    "\n",
    "conn = sqlite3.connect(dbPath)\n",
    "c = conn.cursor() #We'll hang on to this cursor for later queries\n",
    "\n",
    "dataDf = pd.read_csv('../data/JS-Practice-DeathCalculator-SSA-table.csv')\n",
    "\n",
    "print(\"Dataframe of loaded data:\")\n",
    "display(dataDf)\n",
    "\n",
    "mainTableName = \"deathChart\"\n",
    "# write the data to a sqlite table\n",
    "dataDf.to_sql(mainTableName, conn, if_exists='replace', index = False)\n",
    "\n",
    "print(\"Data loaded into sql\")"
   ]
  },
  {
   "cell_type": "code",
   "execution_count": 3,
   "metadata": {},
   "outputs": [
    {
     "name": "stdout",
     "output_type": "stream",
     "text": [
      "How many rows are in the db:\n"
     ]
    },
    {
     "data": {
      "text/plain": [
       "[(120,)]"
      ]
     },
     "execution_count": 3,
     "metadata": {},
     "output_type": "execute_result"
    }
   ],
   "source": [
    "print(\"How many rows are in the db:\")\n",
    "c.execute(f\"SELECT count(*) FROM deathChart\").fetchall() "
   ]
  },
  {
   "cell_type": "code",
   "execution_count": 31,
   "metadata": {},
   "outputs": [
    {
     "name": "stdout",
     "output_type": "stream",
     "text": [
      "Male life expectancy of pre-set user age:\n"
     ]
    },
    {
     "data": {
      "text/plain": [
       "[(36.97,)]"
      ]
     },
     "execution_count": 31,
     "metadata": {},
     "output_type": "execute_result"
    }
   ],
   "source": [
    "print(\"Male life expectancy of pre-set user age:\")\n",
    "c.execute(\"SELECT (male_lifeExpectancy) FROM deathChart WHERE exactAge = 40\").fetchall()"
   ]
  },
  {
   "cell_type": "code",
   "execution_count": 32,
   "metadata": {},
   "outputs": [
    {
     "name": "stdout",
     "output_type": "stream",
     "text": [
      "Female life expectancy of pre-set user age:\n"
     ]
    },
    {
     "data": {
      "text/plain": [
       "[(50.79,)]"
      ]
     },
     "execution_count": 32,
     "metadata": {},
     "output_type": "execute_result"
    }
   ],
   "source": [
    "print(\"Female life expectancy of pre-set user age:\")\n",
    "c.execute(\"SELECT (female_lifeExpectancy) FROM deathChart WHERE exactAge = 30\").fetchall()"
   ]
  },
  {
   "cell_type": "code",
   "execution_count": 30,
   "metadata": {},
   "outputs": [
    {
     "name": "stdout",
     "output_type": "stream",
     "text": [
      "Male life expectancy at age of user:\n"
     ]
    }
   ],
   "source": [
    "print(\"Male life expectancy at age of user:\")\n"
   ]
  },
  {
   "cell_type": "code",
   "execution_count": null,
   "metadata": {},
   "outputs": [],
   "source": [
    "print(\"Female life expectancy at age of user:\")\n"
   ]
  }
 ],
 "metadata": {
  "kernelspec": {
   "display_name": "base",
   "language": "python",
   "name": "python3"
  },
  "language_info": {
   "codemirror_mode": {
    "name": "ipython",
    "version": 3
   },
   "file_extension": ".py",
   "mimetype": "text/x-python",
   "name": "python",
   "nbconvert_exporter": "python",
   "pygments_lexer": "ipython3",
   "version": "3.9.13"
  },
  "orig_nbformat": 4
 },
 "nbformat": 4,
 "nbformat_minor": 2
}
